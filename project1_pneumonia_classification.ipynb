{
  "nbformat": 4,
  "nbformat_minor": 0,
  "metadata": {
    "colab": {
      "provenance": []
    },
    "kernelspec": {
      "name": "python3",
      "display_name": "Python 3"
    },
    "language_info": {
      "name": "python"
    }
  },
  "cells": [
    {
      "cell_type": "code",
      "execution_count": null,
      "metadata": {
        "colab": {
          "base_uri": "https://localhost:8080/"
        },
        "id": "PdDadNFM3eUq",
        "outputId": "be3f794b-2bbb-44f0-fc15-c5274d45939a"
      },
      "outputs": [
        {
          "output_type": "stream",
          "name": "stdout",
          "text": [
            "Mounted at /content/drive\n",
            "Dataset directory found!\n"
          ]
        }
      ],
      "source": [
        "from google.colab import drive\n",
        "import os\n",
        "\n",
        "drive.mount('/content/drive')\n",
        "dataset_path = '/content/drive/MyDrive/Colab_Notebooks/BMET5933_Lab/chest_xray_full_dataset.zip'\n",
        "\n",
        "if os.path.exists(dataset_path):\n",
        "    print(\"Dataset directory found!\")\n",
        "else:\n",
        "    print(\"Dataset directory not found. Check your Google Drive path!\")"
      ]
    },
    {
      "cell_type": "code",
      "source": [
        "import zipfile\n",
        "import os\n",
        "\n",
        "zip_file_path = '/content/drive/MyDrive/Colab_Notebooks/BMET5933_Lab/chest_xray_full_dataset.zip'\n",
        "destination_path = '/content/chest_xray/'\n",
        "\n",
        "if os.path.exists(zip_file_path):\n",
        "    print(\"ZIP file found, starting extraction...\")\n",
        "    with zipfile.ZipFile(zip_file_path, 'r') as zip_ref:\n",
        "        zip_ref.extractall(destination_path)\n",
        "    print(f\"Dataset extracted to: {destination_path}\")\n",
        "else:\n",
        "    print(\"ZIP file not found. Check the file path!\")"
      ],
      "metadata": {
        "colab": {
          "base_uri": "https://localhost:8080/"
        },
        "id": "kSUaRU4z8Kj6",
        "outputId": "a2b4af31-8b08-4428-8947-2ea8585a248d"
      },
      "execution_count": null,
      "outputs": [
        {
          "output_type": "stream",
          "name": "stdout",
          "text": [
            "ZIP file found, starting extraction...\n",
            "Dataset extracted to: /content/chest_xray/\n"
          ]
        }
      ]
    },
    {
      "cell_type": "code",
      "source": [
        "import numpy as np\n",
        "from scipy.stats import entropy as calculate_entropy\n",
        "from tensorflow.keras.preprocessing.image import ImageDataGenerator\n",
        "\n",
        "# Parameters for resizing and augmentation\n",
        "IMG_SIZE = (256, 256)  # Uniform image size\n",
        "ROI_SIZE = (28, 28)    # Each ROI will be 28x28 pixels (8x8 grid -> 64 ROIs)\n",
        "\n",
        "# Initialize ImageDataGenerator with augmentation techniques\n",
        "data_gen = ImageDataGenerator(\n",
        "    rescale=1./255,                         # Normalize pixel values to [0, 1]\n",
        "    horizontal_flip=True,                   # Random horizontal reflection\n",
        "    shear_range=15,                         # Random shear (horizontal and vertical within 0°-15°)\n",
        "    rotation_range=3,                       # Random rotation between −3° to 3°\n",
        "    validation_split=0.2                    # Split into training and validation\n",
        ")\n",
        "\n",
        "# Preprocessing the training images\n",
        "train_gen = data_gen.flow_from_directory(\n",
        "    '/content/chest_xray/chest_xray/train',\n",
        "    target_size=IMG_SIZE,\n",
        "    color_mode='grayscale',\n",
        "    class_mode='binary',      # (NORMAL=0, PNEUMONIA=1)\n",
        "    subset='training'         # Training subset\n",
        ")\n",
        "\n",
        "# Modified Min-Max Scaling\n",
        "def normalize_features(features):\n",
        "    \"\"\"Scale features between 0 and 1 using Min-Max scaling.\"\"\"\n",
        "    features = np.array(features)\n",
        "    min_vals = np.min(features, axis=0)\n",
        "    max_vals = np.max(features, axis=0)\n",
        "    # Avoid division by zero by setting a small epsilon for constant features\n",
        "    range_vals = max_vals - min_vals\n",
        "    range_vals[range_vals == 0] = 1e-10  # Replace zero ranges with a small value\n",
        "    return (features - min_vals) / range_vals\n",
        "\n",
        "def calculate_features(image):\n",
        "    \"\"\"Divide an image into 64 ROIs and extract statistical features from each ROI.\"\"\"\n",
        "    features = []\n",
        "    h, w = image.shape\n",
        "    step_x, step_y = w // 8, h // 8  # Divide into 8x8 grid (64 ROIs)\n",
        "\n",
        "    for y in range(0, h, step_y):\n",
        "        for x in range(0, w, step_x):\n",
        "            roi = image[y:y+step_y, x:x+step_x]\n",
        "\n",
        "            # Statistical Features\n",
        "            roi_flat = roi.flatten()\n",
        "            max_val = np.max(roi_flat)\n",
        "            min_val = np.min(roi_flat)\n",
        "            mean_val = np.mean(roi_flat)\n",
        "            mode_val = np.argmax(np.bincount(roi_flat.astype(int)))  # Convert to integers for mode\n",
        "            std_val = np.std(roi_flat)\n",
        "            q_2_5 = np.percentile(roi_flat, 2.5)\n",
        "            q_5 = np.percentile(roi_flat, 5)\n",
        "            q_10 = np.percentile(roi_flat, 10)\n",
        "            q_90 = np.percentile(roi_flat, 90)\n",
        "            q_95 = np.percentile(roi_flat, 95)\n",
        "            q_97_5 = np.percentile(roi_flat, 97.5)\n",
        "            abs_energy = np.sum(roi_flat**2)\n",
        "\n",
        "            # Entropy (using pixel intensity histogram)\n",
        "            hist, _ = np.histogram(roi_flat, bins=256, range=(0, 1), density=True)\n",
        "            hist = hist + 1e-10  # Avoid log(0)\n",
        "            entropy_val = calculate_entropy(hist, base=2)\n",
        "\n",
        "            # Append features from this ROI\n",
        "            features.extend([max_val, min_val, mean_val, mode_val, std_val,\n",
        "                             q_2_5, q_5, q_10, q_90, q_95, q_97_5, abs_energy, entropy_val])\n",
        "\n",
        "    return features\n",
        "\n",
        "# Iterate over training images and extract features\n",
        "all_features = []\n",
        "labels = []\n",
        "\n",
        "for images, batch_labels in train_gen:  # Loop through batches of images\n",
        "    for i in range(images.shape[0]):  # Loop through images in the batch\n",
        "        image = images[i].squeeze()  # Remove single channel dimension (grayscale)\n",
        "        features = calculate_features(image)  # Extract features from 64 ROIs\n",
        "        all_features.append(features)\n",
        "        labels.append(batch_labels[i])\n",
        "    if len(all_features) >= train_gen.samples:  # Stop after processing all training samples\n",
        "        break\n",
        "\n",
        "# Convert to NumPy arrays and normalize features\n",
        "all_features = np.array(all_features)\n",
        "labels = np.array(labels)\n",
        "\n",
        "# Apply the modified Min-Max scaling\n",
        "scaled_features = normalize_features(all_features)\n",
        "\n",
        "# Save features and labels\n",
        "np.save('scaled_features.npy', scaled_features)\n",
        "np.save('labels.npy', labels)\n",
        "\n",
        "print(f\"Extracted features shape: {scaled_features.shape}\")\n",
        "print(f\"Labels shape: {labels.shape}\")"
      ],
      "metadata": {
        "colab": {
          "base_uri": "https://localhost:8080/"
        },
        "id": "XoPSIF9j8Xxv",
        "outputId": "e4e9a0a0-abbe-4fbe-ae06-96f91e31d92e"
      },
      "execution_count": null,
      "outputs": [
        {
          "output_type": "stream",
          "name": "stdout",
          "text": [
            "Found 4187 images belonging to 2 classes.\n",
            "Extracted features shape: (4187, 832)\n",
            "Labels shape: (4187,)\n"
          ]
        }
      ]
    },
    {
      "cell_type": "code",
      "source": [
        "import numpy as np\n",
        "from sklearn.model_selection import train_test_split\n",
        "from sklearn.svm import SVC\n",
        "from sklearn.metrics import accuracy_score, classification_report, confusion_matrix\n",
        "from joblib import dump\n",
        "\n",
        "# Load features and labels\n",
        "features = np.load('scaled_features.npy')\n",
        "labels = np.load('labels.npy')\n",
        "\n",
        "# Split into training and validation sets\n",
        "X_train, X_val, y_train, y_val = train_test_split(features, labels, test_size=0.2, random_state=42)\n",
        "\n",
        "# Train a SVM classifier\n",
        "svm_model = SVC(kernel='rbf', C=1, gamma='scale', random_state=42)\n",
        "svm_model.fit(X_train, y_train)\n",
        "\n",
        "print(\" SVM classifier trained successfully!\")\n",
        "\n",
        "# Save the trained model\n",
        "dump(svm_model, 'svm_classifier.joblib')\n",
        "print(\" SVM model saved using joblib!\")\n",
        "\n",
        "# Predict using the trained classifier\n",
        "y_pred = svm_model.predict(X_val)\n",
        "\n",
        "# Evaluate the new model\n",
        "print(\"\\nConfusion Matrix:\")\n",
        "print(confusion_matrix(y_val, y_pred))\n",
        "\n",
        "print(\"\\nClassification Report:\")\n",
        "print(classification_report(y_val, y_pred))\n",
        "\n",
        "# Accuracy Score\n",
        "accuracy = accuracy_score(y_val, y_pred)\n",
        "print(f\"\\nValidation Accuracy: {accuracy:.2f}\")\n"
      ],
      "metadata": {
        "colab": {
          "base_uri": "https://localhost:8080/"
        },
        "id": "ykFDiS6z-TNb",
        "outputId": "a06ad914-71d9-455e-e0f6-491c6307a518"
      },
      "execution_count": null,
      "outputs": [
        {
          "output_type": "stream",
          "name": "stdout",
          "text": [
            " SVM classifier trained successfully!\n",
            " SVM model saved using joblib!\n",
            "\n",
            "Confusion Matrix:\n",
            "[[203  15]\n",
            " [ 15 605]]\n",
            "\n",
            "Classification Report:\n",
            "              precision    recall  f1-score   support\n",
            "\n",
            "         0.0       0.93      0.93      0.93       218\n",
            "         1.0       0.98      0.98      0.98       620\n",
            "\n",
            "    accuracy                           0.96       838\n",
            "   macro avg       0.95      0.95      0.95       838\n",
            "weighted avg       0.96      0.96      0.96       838\n",
            "\n",
            "\n",
            "Validation Accuracy: 0.96\n"
          ]
        }
      ]
    },
    {
      "cell_type": "code",
      "source": [
        "import matplotlib.pyplot as plt\n",
        "from sklearn.metrics import ConfusionMatrixDisplay\n",
        "\n",
        "ConfusionMatrixDisplay.from_estimator(svm_model, X_val, y_val, display_labels=['Normal(0)', 'Pneumonia(1)'])\n",
        "plt.title(\"SVM Confusion Matrix - Training Dataset\")\n",
        "plt.show()\n"
      ],
      "metadata": {
        "colab": {
          "base_uri": "https://localhost:8080/",
          "height": 472
        },
        "id": "OfcmO-SGEM5I",
        "outputId": "55aa5d84-8473-4b33-8731-81f548767628"
      },
      "execution_count": null,
      "outputs": [
        {
          "output_type": "display_data",
          "data": {
            "text/plain": [
              "<Figure size 640x480 with 2 Axes>"
            ],
            "image/png": "[encoded data removed]"
          },
          "metadata": {}
        }
      ]
    },
    {
      "cell_type": "code",
      "source": [
        "import numpy as np\n",
        "from scipy.stats import entropy as calculate_entropy1\n",
        "from tensorflow.keras.preprocessing.image import ImageDataGenerator\n",
        "\n",
        "# Parameters for resizing\n",
        "IMG_SIZE = (256, 256)\n",
        "ROI_SIZE = (28, 28)\n",
        "\n",
        "# Initialize ImageDataGenerator for test dataset (only rescaling, no augmentation)\n",
        "test_data_gen = ImageDataGenerator(rescale=1./255)\n",
        "\n",
        "# Load test images\n",
        "test_gen = test_data_gen.flow_from_directory(\n",
        "    '/content/chest_xray/chest_xray/test',\n",
        "    target_size=IMG_SIZE,\n",
        "    color_mode='grayscale',\n",
        "    class_mode='binary',  # (NORMAL=0, PNEUMONIA=1)\n",
        "    shuffle=False  # Keep images in original order\n",
        ")\n",
        "\n",
        "print(f\"Found {test_gen.samples} images in the test dataset.\")\n",
        "\n",
        "# Function to normalize features\n",
        "def normalize_features(features):\n",
        "    \"\"\"Scale features between 0 and 1 using Min-Max scaling.\"\"\"\n",
        "    features = np.array(features)\n",
        "    min_vals = np.min(features, axis=0)\n",
        "    max_vals = np.max(features, axis=0)\n",
        "    # Avoid division by zero by setting a small epsilon for constant features\n",
        "    range_vals = max_vals - min_vals\n",
        "    range_vals[range_vals == 0] = 1e-10  # Replace zero ranges with a small value\n",
        "    return (features - min_vals) / range_vals\n",
        "\n",
        "# Function to extract features from ROIs\n",
        "def calculate_features(image):\n",
        "    \"\"\"Divide an image into 64 ROIs and extract statistical features from each ROI.\"\"\"\n",
        "    features = []\n",
        "    h, w = image.shape\n",
        "    step_x, step_y = w // 8, h // 8  # Divide into 8x8 grid (64 ROIs)\n",
        "\n",
        "    for y in range(0, h, step_y):\n",
        "        for x in range(0, w, step_x):\n",
        "            roi = image[y:y+step_y, x:x+step_x]\n",
        "\n",
        "            # Statistical Features\n",
        "            roi_flat = roi.flatten()\n",
        "            max_val = np.max(roi_flat)\n",
        "            min_val = np.min(roi_flat)\n",
        "            mean_val = np.mean(roi_flat)\n",
        "            mode_val = np.argmax(np.bincount(roi_flat.astype(int)))  # Convert to integers for mode\n",
        "            std_val = np.std(roi_flat)\n",
        "            q_2_5 = np.percentile(roi_flat, 2.5)\n",
        "            q_5 = np.percentile(roi_flat, 5)\n",
        "            q_10 = np.percentile(roi_flat, 10)\n",
        "            q_90 = np.percentile(roi_flat, 90)\n",
        "            q_95 = np.percentile(roi_flat, 95)\n",
        "            q_97_5 = np.percentile(roi_flat, 97.5)\n",
        "            abs_energy = np.sum(roi_flat**2)\n",
        "\n",
        "            # Entropy (using pixel intensity histogram)\n",
        "            hist, _ = np.histogram(roi_flat, bins=256, range=(0, 1), density=True)\n",
        "            hist = hist + 1e-10  # Avoid log(0)\n",
        "            entropy_val = calculate_entropy1(hist, base=2)\n",
        "\n",
        "            # Append features from this ROI\n",
        "            features.extend([max_val, min_val, mean_val, mode_val, std_val,\n",
        "                             q_2_5, q_5, q_10, q_90, q_95, q_97_5, abs_energy, entropy_val])\n",
        "\n",
        "    return features\n",
        "\n",
        "# Iterate over test images and extract features\n",
        "test_features = []\n",
        "test_labels = []  # (0: NORMAL, 1: PNEUMONIA)\n",
        "\n",
        "for images, batch_labels in test_gen:  # Loop through test batches\n",
        "    for i in range(images.shape[0]):  # Iterate through images\n",
        "        image = images[i].squeeze()  # Remove single channel dimension (grayscale)\n",
        "        features = calculate_features(image)  # Extract features\n",
        "        test_features.append(features)\n",
        "        test_labels.append(batch_labels[i])  # Store label\n",
        "\n",
        "    if len(test_features) >= test_gen.samples:  # Stop after all images are processed\n",
        "        break\n",
        "\n",
        "# Convert to NumPy arrays and normalize features\n",
        "test_features = np.array(test_features)\n",
        "test_labels = np.array(test_labels)\n",
        "\n",
        "# Apply the modified Min-Max scaling\n",
        "scaled_test_features = normalize_features(test_features)\n",
        "\n",
        "# Save extracted test features & labels\n",
        "np.save('test_features.npy', scaled_test_features)\n",
        "np.save('test_labels.npy', test_labels)\n",
        "\n",
        "print(f\"Extracted test features shape: {scaled_test_features.shape}\")\n",
        "print(f\"Test labels shape: {test_labels.shape}\")"
      ],
      "metadata": {
        "colab": {
          "base_uri": "https://localhost:8080/"
        },
        "id": "p62zkgXl-d9d",
        "outputId": "6aafcaee-a647-4852-de52-b4f13f209e31"
      },
      "execution_count": null,
      "outputs": [
        {
          "output_type": "stream",
          "name": "stdout",
          "text": [
            "Found 624 images belonging to 2 classes.\n",
            "Found 624 images in the test dataset.\n",
            "Extracted test features shape: (624, 832)\n",
            "Test labels shape: (624,)\n"
          ]
        }
      ]
    },
    {
      "cell_type": "code",
      "source": [
        "from joblib import load\n",
        "from sklearn.impute import SimpleImputer\n",
        "from sklearn.metrics import accuracy_score, classification_report, confusion_matrix\n",
        "\n",
        "# Load trained SVM classifier\n",
        "svm_model = load('svm_classifier.joblib')\n",
        "\n",
        "# Load test features & labels\n",
        "X_test = np.load('test_features.npy')\n",
        "y_test = np.load('test_labels.npy')\n",
        "\n",
        "# Make predictions\n",
        "y_test_pred = svm_model.predict(X_test)\n",
        "\n",
        "# Evaluate results\n",
        "print(\"\\nConfusion Matrix:\")\n",
        "print(confusion_matrix(y_test, y_test_pred))\n",
        "\n",
        "print(\"\\nClassification Report:\")\n",
        "print(classification_report(y_test, y_test_pred))\n",
        "\n",
        "# Accuracy\n",
        "test_accuracy = accuracy_score(y_test, y_test_pred)\n",
        "print(f\"\\nTest Accuracy: {test_accuracy:.2f}\")"
      ],
      "metadata": {
        "colab": {
          "base_uri": "https://localhost:8080/"
        },
        "id": "5vCT3Axj-zcn",
        "outputId": "fd770a45-a9b3-4d1f-b650-e55733733d74"
      },
      "execution_count": null,
      "outputs": [
        {
          "output_type": "stream",
          "name": "stdout",
          "text": [
            "\n",
            "Confusion Matrix:\n",
            "[[183  51]\n",
            " [  7 383]]\n",
            "\n",
            "Classification Report:\n",
            "              precision    recall  f1-score   support\n",
            "\n",
            "         0.0       0.96      0.78      0.86       234\n",
            "         1.0       0.88      0.98      0.93       390\n",
            "\n",
            "    accuracy                           0.91       624\n",
            "   macro avg       0.92      0.88      0.90       624\n",
            "weighted avg       0.91      0.91      0.90       624\n",
            "\n",
            "\n",
            "Test Accuracy: 0.91\n"
          ]
        }
      ]
    },
    {
      "cell_type": "code",
      "source": [
        "import matplotlib.pyplot as plt\n",
        "from sklearn.metrics import ConfusionMatrixDisplay\n",
        "\n",
        "ConfusionMatrixDisplay.from_estimator(svm_model, X_test, y_test, display_labels=['Normal(0)', 'Pneumonia(1)'])\n",
        "plt.title(\"SVM Confusion Matrix - Training Dataset\")\n",
        "plt.show()\n"
      ],
      "metadata": {
        "colab": {
          "base_uri": "https://localhost:8080/",
          "height": 472
        },
        "id": "st1p1J-z-5op",
        "outputId": "58e0e58c-b5a2-4255-b15a-1b3efc9f88c0"
      },
      "execution_count": null,
      "outputs": [
        {
          "output_type": "display_data",
          "data": {
            "text/plain": [
              "<Figure size 640x480 with 2 Axes>"
            ],
            "image/png": "[encoded data removed]"
          },
          "metadata": {}
        }
      ]
    }
  ]
}